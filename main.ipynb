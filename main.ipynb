{
 "cells": [
  {
   "cell_type": "markdown",
   "metadata": {},
   "source": [
    "\n",
    "### 1- l’alignement optimal avec sub=-1, Id=2 et GAP=-2\n",
    "la fonction Align() elle prends en parametre deux sequences pour calculer l'lignement optimale de ses sequences , en premier la matrice de l'alignement est contsruite avec les parametres donnés (sub=-1, Id=2 et GAP=-2),\n",
    "ensuite en allant de la derniere case de la matrice on construit l'alignement optimale des deux sequences .\n",
    "et a la fin ya une boucle pour parcourir et comparerechaque sequences avec le reste des sequences "
   ]
  },
  {
   "cell_type": "code",
   "execution_count": 3,
   "metadata": {},
   "outputs": [
    {
     "name": "stdout",
     "output_type": "stream",
     "text": [
      "Alignement optimal entre Seq 1 et Seq 2 est :\n",
      "ACG-CG---ACCT-GGCCTATTGTAA--T\n",
      "AC-CCTATGACC-GGTCGT-T-GTAAACT\n",
      "________________________________________________________________________________________________\n",
      "Alignement optimal entre Seq 1 et Seq 3 est :\n",
      "AC--GATGACCGGGC-T-TGTAA-CT\n",
      "ACCCGATGACAGGGCC-TTGTAAACT\n",
      "________________________________________________________________________________________________\n",
      "Alignement optimal entre Seq 1 et Seq 4 est :\n",
      "AT-C--ATGACCGG-C-T-TGTA--CTTAT\n",
      "T-CCCGATGACCGGGCC-TTATAAAC---T\n",
      "________________________________________________________________________________________________\n",
      "Alignement optimal entre Seq 1 et Seq 5 est :\n",
      "AT-CGCGACCTGAT-CGGGCCG-TGT--A-T\n",
      "T-CC-CTA--TGA-CCGTACG-TTATAAACT\n",
      "________________________________________________________________________________________________\n",
      "Alignement optimal entre Seq 2 et Seq 3 est :\n",
      "ACGCTGACC-GGTC-T--T-GTAACT\n",
      "ACGAT-ACAT-GGCG-TATTGTAA-T\n",
      "________________________________________________________________________________________________\n",
      "Alignement optimal entre Seq 2 et Seq 4 est :\n",
      "AT--CATGACC-GG-C-TTATTGTT-AT\n",
      "T-CGC-T-ACCT-GTCG-TATACT-AAT\n",
      "________________________________________________________________________________________________\n",
      "Alignement optimal entre Seq 2 et Seq 5 est :\n",
      "ATCGCTACCTGATCGTAT-GGTATAT\n",
      "T-CGCTACCTG-TCGTACT-GTA-AT\n",
      "________________________________________________________________________________________________\n",
      "Alignement optimal entre Seq 3 et Seq 4 est :\n",
      "ATC-ATGACAGG-CTTGTA-CTTAT\n",
      "T-CGATGACCGGGCTTATAAC---T\n",
      "________________________________________________________________________________________________\n",
      "Alignement optimal entre Seq 3 et Seq 5 est :\n",
      "ATCGAT-ACAT-GGTCG-TACGGTATA-T\n",
      "T-CGCTGACC-GGA-C-TT--G-TA-ACT\n",
      "________________________________________________________________________________________________\n",
      "Alignement optimal entre Seq 4 et Seq 5 est :\n",
      "TTCACT-ACCT-GCTTATACTGTATAT\n",
      "TTCG-TGACC-GGATCGTACG-TA--T\n",
      "________________________________________________________________________________________________\n"
     ]
    }
   ],
   "source": [
    "import numpy as np \n",
    "def Align(s1,s2,Id,sub,GAP):\n",
    "    mat=np.zeros((len(s2)+1,len(s1)+1))\n",
    "    x=np.zeros(3)\n",
    "    for i in range(len(s1)+1):\n",
    "        mat[0,i]=int(GAP*i)\n",
    "    for i in range(len(s2)+1):\n",
    "        mat[i,0]=int(GAP*i)\n",
    "    for i in range(1,len(s2)+1):\n",
    "        for j in range (1,len(s1)+1):\n",
    "            x[0]=mat[i-1,j]+GAP\n",
    "            x[1]=mat[i,j-1]+GAP\n",
    "            if(s2[i-1]==s1[j-1]):\n",
    "                x[2]=mat[i-1,j-1]+Id\n",
    "            elif(s2[i-1]!='-' and s1[j-1]!='-'):\n",
    "                x[2]=mat[i-1,j-1]+sub\n",
    "            else:\n",
    "                x[2]=mat[i-1,j-1]+GAP \n",
    "            mat[i,j]=int(np.max(x))\n",
    "\n",
    "    seq1=s1[len(s1)-1]\n",
    "    seq2=s2[len(s2)-1]\n",
    "    x=np.zeros(3)\n",
    "    i=len(s1)\n",
    "    j=len(s2)\n",
    "    while(i!=1 or j!=1):\n",
    "        x[0]=mat[j-1,i]\n",
    "        x[1]=mat[j,i-1]\n",
    "        x[2]=mat[j-1,i-1]\n",
    "        m=np.max(x)\n",
    "        if(m==mat[j-1,i]):\n",
    "            seq1+=s2[j-2]\n",
    "            seq2+='-'\n",
    "            j=j-1\n",
    "        elif(m==mat[j,i-1]):\n",
    "            seq1+='-'\n",
    "            seq2+=s1[i-2]\n",
    "            i=i-1\n",
    "        else :\n",
    "            seq1+=s1[i-2]\n",
    "            seq2+=s2[j-2]\n",
    "            j=j-1\n",
    "            i=i-1\n",
    "    seq1=\"\".join(reversed(seq1))\n",
    "    seq2=\"\".join(reversed(seq2))\n",
    "            \n",
    "    return seq1,seq2\n",
    "\n",
    "S1='ACCCGATGACCGGGCCTTGTAAACT'\n",
    "S2='ACGCTACCTGTCGTATTGTAAT'\n",
    "S3='ACGATGACAGGGCTTGTAACT' \n",
    "S4='TTCATGACCGGCTTATACTTAT'\n",
    "S5='TTCGCTACCTGATCGTACGGTATAT'\n",
    "Id=2\n",
    "sub=-1\n",
    "GAP=-2\n",
    "Seq=[S1,S2,S3,S4,S5]\n",
    "for i in range(len(Seq)):\n",
    "    j=i+1\n",
    "    while(j<len(Seq)):\n",
    "        seq1,seq2=Align(Seq[i],Seq[j],Id,sub,GAP)\n",
    "        print('Alignement optimal entre Seq',i+1,'et Seq',j+1,'est :')\n",
    "        print(seq1)\n",
    "        print(seq2)\n",
    "        print(\"________________________________________________________________________________________________\")\n",
    "        j+=1"
   ]
  },
  {
   "cell_type": "markdown",
   "metadata": {},
   "source": [
    "### 2-Arbe phylogenique avec UPGMA\n",
    "dans cette etape  j'ai contruit une matrice de distances en calculant les mismatch(diference) entre chaque sequences et le reste , ensuite en utilisant e \"dendogram\" en prenant la matrice de distance en parametre  il contruit l'arbre phylognique ( clustering) "
   ]
  },
  {
   "cell_type": "code",
   "execution_count": 16,
   "metadata": {},
   "outputs": [
    {
     "name": "stdout",
     "output_type": "stream",
     "text": [
      "[0, 11, 12, 15, 15] \n",
      "\n",
      "[11, 0, 9, 9, 14] \n",
      "\n",
      "[12, 9, 0, 8, 13] \n",
      "\n",
      "[15, 9, 8, 0, 7] \n",
      "\n",
      "[15, 14, 13, 7, 0] \n",
      "\n"
     ]
    },
    {
     "name": "stderr",
     "output_type": "stream",
     "text": [
      "C:\\Users\\dell\\Anaconda3\\lib\\site-packages\\ipykernel_launcher.py:24: ClusterWarning: scipy.cluster: The symmetric non-negative hollow observation matrix looks suspiciously like an uncondensed distance matrix\n"
     ]
    },
    {
     "data": {
      "image/png": "[encoded data removed]",
      "text/plain": [
       "<Figure size 432x288 with 1 Axes>"
      ]
     },
     "metadata": {
      "needs_background": "light"
     },
     "output_type": "display_data"
    }
   ],
   "source": [
    "matrix =[[\"A\",\"C\",\"C\",\"C\",\"G\",\"A\",\"T\",\"G\",\"A\",\"C\",\"C\",\"G\",\"G\",\"G\",\"C\",\"C\",\"T\",\"T\",\"G\",\"T\",\"A\",\"A\",\"A\",\"C\",\"T\"],\n",
    "         [\"A\",\"C\",\"G\",\"C\",\"T\",\"A\",\"C\",\"C\",\"T\",\"G\",\"T\",\"C\",\"G\",\"T\",\"A\",\"T\",\"T\",\"G\",\"T\",\"A\",\"A\",\"T\",\"-\",\"-\",\"-\"],\n",
    "         [\"A\",\"C\",\"G\",\"A\",\"T\",\"G\",\"A\",\"C\",\"A\",\"G\",\"G\",\"G\",\"C\",\"T\",\"T\",\"G\",\"T\",\"A\",\"A\",\"C\",\"T\",\"-\",\"-\",\"-\",\"-\"],\n",
    "         [\"T\",\"T\",\"C\",\"A\",\"T\",\"G\",\"A\",\"C\",\"C\",\"G\",\"G\",\"C\",\"T\",\"T\",\"A\",\"T\",\"A\",\"C\",\"T\",\"T\",\"A\",\"T\",\"-\",\"-\",\"-\"],\n",
    "         [\"T\",\"T\",\"C\",\"G\",\"C\",\"T\",\"A\",\"C\",\"C\",\"T\",\"G\",\"A\",\"T\",\"C\",\"G\",\"T\",\"A\",\"C\",\"G\",\"G\",\"T\",\"A\",\"T\",\"A\",\"T\"]]\n",
    "\n",
    "distance = [[0 for x in range(5)] for x in range(5)]\n",
    "\n",
    "x=1\n",
    "for x in range(5):\n",
    "    for y in range(x+1,5):\n",
    "        mismatch=0\n",
    "        for z in range(16):\n",
    "            if(matrix[x][z]!=matrix[y][z]):\n",
    "                mismatch+=1\n",
    "        distance[x][y]=mismatch\n",
    "        distance[y][x]=mismatch\n",
    "\n",
    "for i in distance:\n",
    "    print(i ,\"\\n\")\n",
    "\n",
    "\n",
    "import scipy.cluster.hierarchy as sch\n",
    "dendrogram = sch.dendrogram(sch.linkage(distance, method = 'ward'))"
   ]
  },
  {
   "cell_type": "markdown",
   "metadata": {},
   "source": [
    "### 3-Alignement globale avec algorithme claustal\n",
    "#### Seq1='-ACCCGATGACCGGGCCTTGTAAACT------' \n",
    "#### Seq2='-ACGC---TACCTGT-CG----TATTGTAAT-'\n",
    "#### Seq3='---ACGATGACAGGGCTTGTAA--CT------'\n",
    "#### Seq4='TTCAT---GACCGGCTTA----TACTTAT---' \n",
    "#### Seq5='TTCGC---TACCTGATCG----TACGGTATAT'"
   ]
  },
  {
   "cell_type": "markdown",
   "metadata": {},
   "source": [
    "### 4-Arbe phylogenique avec UPGMA"
   ]
  },
  {
   "cell_type": "code",
   "execution_count": 17,
   "metadata": {},
   "outputs": [
    {
     "name": "stdout",
     "output_type": "stream",
     "text": [
      "[0, 20, 10, 19, 23] \n",
      "\n",
      "[20, 0, 25, 16, 9] \n",
      "\n",
      "[10, 25, 0, 20, 27] \n",
      "\n",
      "[19, 16, 20, 0, 14] \n",
      "\n",
      "[23, 9, 27, 14, 0] \n",
      "\n"
     ]
    },
    {
     "name": "stderr",
     "output_type": "stream",
     "text": [
      "C:\\Users\\dell\\Anaconda3\\lib\\site-packages\\ipykernel_launcher.py:23: ClusterWarning: scipy.cluster: The symmetric non-negative hollow observation matrix looks suspiciously like an uncondensed distance matrix\n"
     ]
    },
    {
     "data": {
      "image/png": "[encoded data removed]",
      "text/plain": [
       "<Figure size 432x288 with 1 Axes>"
      ]
     },
     "metadata": {
      "needs_background": "light"
     },
     "output_type": "display_data"
    }
   ],
   "source": [
    "matrix = [[\"-\",\"A\",\"C\",\"C\",\"C\",\"G\",\"A\",\"T\",\"G\",\"A\",\"C\",\"C\",\"G\",\"G\",\"G\",\"C\",\"C\",\"T\",\"T\",\"G\",\"T\",\"A\",\"A\",\"A\",\"C\",\"T\",\"-\",\"-\",\"-\",\"-\",\"-\",\"-\"],\n",
    "          [\"-\",\"A\",\"C\",\"G\",\"C\",\"-\",\"-\",\"-\",\"T\",\"A\",\"C\",\"C\",\"T\",\"G\",\"T\",\"-\",\"C\",\"G\",\"-\",\"-\",\"-\",\"-\",\"T\",\"A\",\"T\",\"T\",\"G\",\"T\",\"A\",\"A\",\"T\",\"-\"], \n",
    "          [\"-\",\"-\",\"-\",\"A\",\"C\",\"G\",\"A\",\"T\",\"G\",\"A\",\"C\",\"A\",\"G\",\"G\",\"G\",\"C\",\"T\",\"T\",\"G\",\"T\",\"A\",\"A\",\"-\",\"-\",\"C\",\"T\",\"-\",\"-\",\"-\",\"-\",\"-\",\"-\"], \n",
    "          [\"T\",\"T\",\"C\",\"A\",\"T\",\"-\",\"-\",\"-\",\"G\",\"A\",\"C\",\"C\",\"G\",\"G\",\"C\",\"T\",\"T\",\"A\",\"-\",\"-\",\"-\",\"-\",\"T\",\"A\",\"C\",\"T\",\"T\",\"A\",\"T\",\"-\",\"-\",\"-\"], \n",
    "          [\"T\",\"T\",\"C\",\"G\",\"C\",\"-\",\"-\",\"-\",\"T\",\"A\",\"C\",\"C\",\"T\",\"G\",\"A\",\"T\",\"C\",\"G\",\"-\",\"-\",\"-\",\"-\",\"T\",\"A\",\"C\",\"G\",\"G\",\"T\",\"A\",\"T\",\"A\",\"T\"]]\n",
    "\n",
    "distance = [[0 for x in range(5)] for x in range(5)]\n",
    "\n",
    "for x in range(5):\n",
    "    for y in range(x+1,5):\n",
    "        mismatch=0\n",
    "        for z in range(32):\n",
    "            if(matrix[x][z]!=matrix[y][z]):\n",
    "                mismatch+=1\n",
    "        distance[x][y]=mismatch\n",
    "        distance[y][x]=mismatch\n",
    "\n",
    "for i in distance:\n",
    "    print(i ,\"\\n\")\n",
    "\n",
    "\n",
    "import scipy.cluster.hierarchy as sch\n",
    "dendrogram = sch.dendrogram(sch.linkage(distance, method = 'ward'))"
   ]
  },
  {
   "cell_type": "code",
   "execution_count": null,
   "metadata": {},
   "outputs": [],
   "source": []
  }
 ],
 "metadata": {
  "kernelspec": {
   "display_name": "Python 3 (ipykernel)",
   "language": "python",
   "name": "python3"
  },
  "language_info": {
   "codemirror_mode": {
    "name": "ipython",
    "version": 3
   },
   "file_extension": ".py",
   "mimetype": "text/x-python",
   "name": "python",
   "nbconvert_exporter": "python",
   "pygments_lexer": "ipython3",
   "version": "3.12.4"
  }
 },
 "nbformat": 4,
 "nbformat_minor": 4
}
